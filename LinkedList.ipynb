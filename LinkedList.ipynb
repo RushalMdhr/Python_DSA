{
 "cells": [
  {
   "cell_type": "markdown",
   "id": "731ffb96",
   "metadata": {},
   "source": [
    "# Linked List"
   ]
  },
  {
   "cell_type": "markdown",
   "id": "42d2805b",
   "metadata": {},
   "source": [
    "### Linear Linked List"
   ]
  },
  {
   "cell_type": "code",
   "execution_count": null,
   "id": "1de9e452",
   "metadata": {},
   "outputs": [],
   "source": [
    "class Node:\n",
    "    def __init__ (self,data,next=None):\n",
    "        self.data = data\n",
    "        self.next = next\n",
    "\n",
    "    def __repr__(head):\n",
    "        currentNode = head\n",
    "        while currentNode:\n",
    "            print(currentNode.data, end=\" -> \")\n",
    "            currentNode = currentNode.next\n",
    "        print(\"null\")\n",
    "        return \"\"\n",
    "\n",
    "\n"
   ]
  },
  {
   "cell_type": "markdown",
   "id": "db90b0cf",
   "metadata": {},
   "source": [
    "Insertion, Deletion Operations"
   ]
  },
  {
   "cell_type": "code",
   "execution_count": 91,
   "id": "aca4b541",
   "metadata": {},
   "outputs": [],
   "source": [
    "def deleteByNode(head,key):\n",
    "    if head ==key:\n",
    "        return head\n",
    "    this = head\n",
    "    while this.next and this.next != key:\n",
    "        this = this.next\n",
    "    if this.next == key:\n",
    "        this.next = this.next.next\n",
    "    return head\n",
    "\n",
    "def insertByValue(head,node,value):\n",
    "    if value < 2:\n",
    "        node.next = head\n",
    "        return node\n",
    "    for i in range(value-2):\n",
    "        head = head.next\n",
    "    \n",
    "    node.next=head.next\n",
    "    head.next = node\n",
    "\n",
    "        "
   ]
  },
  {
   "cell_type": "code",
   "execution_count": 92,
   "id": "ef087a9d",
   "metadata": {},
   "outputs": [],
   "source": [
    "node1 = Node(10)\n",
    "node1.next = node2 =Node(20)\n",
    "node2.next = node3 = Node(30)"
   ]
  },
  {
   "cell_type": "code",
   "execution_count": 93,
   "id": "430b7a30",
   "metadata": {},
   "outputs": [
    {
     "name": "stdout",
     "output_type": "stream",
     "text": [
      "10 -> 20 -> 30 -> null\n",
      "\n"
     ]
    }
   ],
   "source": [
    "print(node1)"
   ]
  },
  {
   "cell_type": "code",
   "execution_count": 94,
   "id": "61c147cd",
   "metadata": {},
   "outputs": [
    {
     "name": "stdout",
     "output_type": "stream",
     "text": [
      "10 -> 20 -> 30 -> 33 -> null\n",
      "\n"
     ]
    }
   ],
   "source": [
    "node4 = Node(33)\n",
    "insertByValue(node1,node4,4)\n",
    "print(node1)"
   ]
  },
  {
   "cell_type": "code",
   "execution_count": 95,
   "id": "6b7df18b",
   "metadata": {},
   "outputs": [
    {
     "name": "stdout",
     "output_type": "stream",
     "text": [
      "10 -> 20 -> 33 -> null\n"
     ]
    },
    {
     "data": {
      "text/plain": []
     },
     "execution_count": 95,
     "metadata": {},
     "output_type": "execute_result"
    }
   ],
   "source": [
    "deleteByNode(node1,node3)"
   ]
  },
  {
   "cell_type": "code",
   "execution_count": 89,
   "id": "8ea4b45a",
   "metadata": {},
   "outputs": [
    {
     "name": "stdout",
     "output_type": "stream",
     "text": [
      "10 -> 33 -> 33 -> null\n",
      "\n"
     ]
    }
   ],
   "source": [
    "print(node1)"
   ]
  },
  {
   "cell_type": "markdown",
   "id": "6d8aff0f",
   "metadata": {},
   "source": [
    "# if double linked list\n",
    "1 <-> 2 <-> 4\n",
    "\n",
    "# if singly circular\n",
    "\n",
    "1 <-> 2 <-> 4<br>\n",
    "^____________|\n",
    "\n",
    "# if doubly circular\n",
    "\n",
    "1 <-> 2 <-> 4<br>\n",
    "^____________^"
   ]
  }
 ],
 "metadata": {
  "kernelspec": {
   "display_name": "base",
   "language": "python",
   "name": "python3"
  },
  "language_info": {
   "codemirror_mode": {
    "name": "ipython",
    "version": 3
   },
   "file_extension": ".py",
   "mimetype": "text/x-python",
   "name": "python",
   "nbconvert_exporter": "python",
   "pygments_lexer": "ipython3",
   "version": "3.13.5"
  }
 },
 "nbformat": 4,
 "nbformat_minor": 5
}
