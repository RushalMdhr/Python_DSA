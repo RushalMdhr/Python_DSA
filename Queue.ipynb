{
 "cells": [
  {
   "cell_type": "markdown",
   "id": "10512116",
   "metadata": {},
   "source": [
    "# Queue"
   ]
  },
  {
   "cell_type": "code",
   "execution_count": 48,
   "id": "5a987bf0",
   "metadata": {},
   "outputs": [],
   "source": [
    "class queue:\n",
    "    def __init__(self):\n",
    "        self.queue=[]\n",
    "    \n",
    "    def enqueue(self,item):\n",
    "        self.queue.append(item)\n",
    "\n",
    "    def dequeue(self,n=-1):\n",
    "        if self.queue and n < len(self.queue):\n",
    "            return self.queue.pop(n)\n",
    "        else:\n",
    "            print(\"Queue is empty\")\n",
    "    \n",
    "    "
   ]
  },
  {
   "cell_type": "code",
   "execution_count": 49,
   "id": "b57ee081",
   "metadata": {},
   "outputs": [],
   "source": [
    "q=queue()"
   ]
  },
  {
   "cell_type": "code",
   "execution_count": 62,
   "id": "73511b67",
   "metadata": {},
   "outputs": [
    {
     "name": "stdout",
     "output_type": "stream",
     "text": [
      "[59, 55, 3, 27]\n"
     ]
    }
   ],
   "source": [
    "import random\n",
    "element = random.randint(1,100)\n",
    "q.enqueue(element)\n",
    "\n",
    "print(q.queue)"
   ]
  },
  {
   "cell_type": "code",
   "execution_count": 60,
   "id": "4a632eb7",
   "metadata": {},
   "outputs": [
    {
     "name": "stdout",
     "output_type": "stream",
     "text": [
      "Queue is empty\n",
      "[59, 55]\n"
     ]
    }
   ],
   "source": [
    "q.dequeue(2)\n",
    "print(q.queue)"
   ]
  },
  {
   "cell_type": "markdown",
   "id": "abdcd81a",
   "metadata": {},
   "source": [
    "## Queue Implementation Using Linked List"
   ]
  },
  {
   "cell_type": "code",
   "execution_count": 36,
   "id": "e70c8aaf",
   "metadata": {},
   "outputs": [],
   "source": [
    "class Node:\n",
    "    def __init__(self,data,next=None):\n",
    "        self.data=data\n",
    "        self.next=next\n",
    "    \n",
    "class Queue:\n",
    "    def __init__(self):\n",
    "        self.front = None\n",
    "        self.rear = None\n",
    "        self.length = 0\n",
    "\n",
    "    def enqueue(self,item):\n",
    "        new_node = Node(item)\n",
    "        if self.rear is None:\n",
    "            self.front = self.rear = new_node\n",
    "            self.length += 1\n",
    "            return\n",
    "        self.rear.next = new_node\n",
    "        self.rear = new_node\n",
    "        self.length += 1\n",
    "\n",
    "    def dequeue(self):\n",
    "        if self.length:\n",
    "            temp = self.front\n",
    "            self.front =temp.next\n",
    "            self.length -= 1\n",
    "            if self.front is None:\n",
    "                self.rear = None\n",
    "            return temp.data\n",
    "        else:\n",
    "            print(\"Queue is empty\")\n",
    "\n",
    "    def display(self):\n",
    "        temp = self.front\n",
    "        tempArr = []\n",
    "        while temp:\n",
    "            tempArr.append(temp.data)\n",
    "            temp = temp.next\n",
    "        return tempArr"
   ]
  },
  {
   "cell_type": "code",
   "execution_count": 37,
   "id": "b399c982",
   "metadata": {},
   "outputs": [],
   "source": [
    "q= Queue()"
   ]
  },
  {
   "cell_type": "code",
   "execution_count": 70,
   "id": "249bffdb",
   "metadata": {},
   "outputs": [
    {
     "name": "stdout",
     "output_type": "stream",
     "text": [
      "queue : bottom element 73, Top element59, \n",
      "size of queue 6\n"
     ]
    },
    {
     "data": {
      "text/plain": [
       "[73, 85, 99, 62, 10, 59]"
      ]
     },
     "execution_count": 70,
     "metadata": {},
     "output_type": "execute_result"
    }
   ],
   "source": [
    "import random\n",
    "element = random.randint(1,100)\n",
    "\n",
    "q.enqueue(element)\n",
    "print(f\"queue : bottom element {q.front.data}, Top element{q.rear.data}, \\nsize of queue {q.length}\")\n",
    "q.display()"
   ]
  },
  {
   "cell_type": "code",
   "execution_count": 71,
   "id": "0c72714f",
   "metadata": {},
   "outputs": [
    {
     "name": "stdout",
     "output_type": "stream",
     "text": [
      "dequeued element :  73\n"
     ]
    },
    {
     "data": {
      "text/plain": [
       "[85, 99, 62, 10, 59]"
      ]
     },
     "execution_count": 71,
     "metadata": {},
     "output_type": "execute_result"
    }
   ],
   "source": [
    "print(\"dequeued element : \",q.dequeue())\n",
    "q.display()"
   ]
  }
 ],
 "metadata": {
  "kernelspec": {
   "display_name": "base",
   "language": "python",
   "name": "python3"
  },
  "language_info": {
   "codemirror_mode": {
    "name": "ipython",
    "version": 3
   },
   "file_extension": ".py",
   "mimetype": "text/x-python",
   "name": "python",
   "nbconvert_exporter": "python",
   "pygments_lexer": "ipython3",
   "version": "3.13.5"
  }
 },
 "nbformat": 4,
 "nbformat_minor": 5
}
