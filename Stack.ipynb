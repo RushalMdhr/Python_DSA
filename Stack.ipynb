{
 "cells": [
  {
   "cell_type": "markdown",
   "id": "a9e37177",
   "metadata": {},
   "source": [
    "# Stack"
   ]
  },
  {
   "cell_type": "code",
   "execution_count": 7,
   "id": "fe2dcbf4",
   "metadata": {},
   "outputs": [
    {
     "name": "stdout",
     "output_type": "stream",
     "text": [
      "[]\n",
      "[1, [2, 3], 4]\n",
      "top element :  4\n"
     ]
    },
    {
     "data": {
      "text/plain": [
       "[1, [2, 3], 4]"
      ]
     },
     "execution_count": 7,
     "metadata": {},
     "output_type": "execute_result"
    }
   ],
   "source": [
    "stack = []\n",
    "print(stack)\n",
    "stack.append(1)\n",
    "stack.append([2,3])\n",
    "stack.append(4)\n",
    "print(stack)\n",
    "\n",
    "top_element = stack[-1]\n",
    "print(\"top element : \",top_element)\n",
    "\n",
    "\n",
    "stack"
   ]
  },
  {
   "cell_type": "code",
   "execution_count": 60,
   "id": "2861fcee",
   "metadata": {},
   "outputs": [
    {
     "name": "stdout",
     "output_type": "stream",
     "text": [
      "[8, 8, 10, 10]\n"
     ]
    }
   ],
   "source": [
    "import random\n",
    "\n",
    "element = random.randint(5,10)\n",
    "stack.append(element)\n",
    "\n",
    "print(stack)"
   ]
  },
  {
   "cell_type": "code",
   "execution_count": 61,
   "id": "f97337db",
   "metadata": {},
   "outputs": [
    {
     "name": "stdout",
     "output_type": "stream",
     "text": [
      "[8, 8, 10, 10]\n",
      "popped element :  10\n"
     ]
    }
   ],
   "source": [
    "print(stack)\n",
    "if stack:\n",
    "    pop_element = stack.pop()\n",
    "    print(\"popped element : \",pop_element)\n",
    "else:\n",
    "    print(\"stack is empty\")"
   ]
  },
  {
   "cell_type": "code",
   "execution_count": 54,
   "id": "71e12477",
   "metadata": {},
   "outputs": [
    {
     "name": "stdout",
     "output_type": "stream",
     "text": [
      "size of stack :  3\n"
     ]
    }
   ],
   "source": [
    "print(\"size of stack : \",len(stack))"
   ]
  },
  {
   "cell_type": "markdown",
   "id": "2290978e",
   "metadata": {},
   "source": [
    "# STACK WITH CLASS"
   ]
  },
  {
   "cell_type": "code",
   "execution_count": 76,
   "id": "03a318ee",
   "metadata": {},
   "outputs": [],
   "source": [
    "class Stack:\n",
    "    def __init__(self):\n",
    "        self.stack=[]\n",
    "\n",
    "    def push(self,element):\n",
    "        self.stack.append(element)\n",
    "\n",
    "    \n",
    "    def pop(self):\n",
    "        if self.stack:\n",
    "            return self.stack.pop()\n",
    "        else:\n",
    "            print(\"stack is empty\")"
   ]
  },
  {
   "cell_type": "code",
   "execution_count": 72,
   "id": "c05a968e",
   "metadata": {},
   "outputs": [],
   "source": [
    "s = Stack()"
   ]
  },
  {
   "cell_type": "code",
   "execution_count": 73,
   "id": "9060eb8c",
   "metadata": {},
   "outputs": [
    {
     "name": "stdout",
     "output_type": "stream",
     "text": [
      "[10]\n"
     ]
    }
   ],
   "source": [
    "import random\n",
    "\n",
    "element = random.randint(5,10)\n",
    "s.push(element)\n",
    "print(s.stack)"
   ]
  },
  {
   "cell_type": "code",
   "execution_count": 77,
   "id": "b4c7d20d",
   "metadata": {},
   "outputs": [
    {
     "name": "stdout",
     "output_type": "stream",
     "text": [
      "poped element :  None\n"
     ]
    }
   ],
   "source": [
    "poped = s.pop()\n",
    "print(\"poped element : \",poped)"
   ]
  },
  {
   "cell_type": "code",
   "execution_count": null,
   "id": "fd0cde7d",
   "metadata": {},
   "outputs": [],
   "source": []
  }
 ],
 "metadata": {
  "kernelspec": {
   "display_name": "base",
   "language": "python",
   "name": "python3"
  },
  "language_info": {
   "codemirror_mode": {
    "name": "ipython",
    "version": 3
   },
   "file_extension": ".py",
   "mimetype": "text/x-python",
   "name": "python",
   "nbconvert_exporter": "python",
   "pygments_lexer": "ipython3",
   "version": "3.13.5"
  }
 },
 "nbformat": 4,
 "nbformat_minor": 5
}
